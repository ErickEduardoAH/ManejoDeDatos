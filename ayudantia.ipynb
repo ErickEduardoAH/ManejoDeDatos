{
 "cells": [
  {
   "cell_type": "markdown",
   "id": "4b3f05d8-ac48-4931-a990-f00ee56d43f7",
   "metadata": {},
   "source": [
    "<H1> Ejercicios con ciclos </H1>\n",
    "\n",
    "mat.erickaguilar@ciencias.unam.mx\n",
    "_____"
   ]
  },
  {
   "cell_type": "markdown",
   "id": "1332e58b-6078-4c38-b7ba-c552d7f48357",
   "metadata": {},
   "source": [
    "**Ejercicio 1**\n",
    "\n",
    "Hay un examen de opción múltiple con N preguntas, numeradas del 1 al N. Cada pregunta tiene 2 posibles respuestas, etiquetadas como A y B.\n",
    "\n",
    "Sabes que la respuesta correcta para la i-ésima pregunta está en el carácter i de la cadena C, la cual solo contiene \"A\" o \"B\".\n",
    "\n",
    "Pero tú quieres obtener una calificación de 0 en este examen, es decir, responder todas las preguntas de forma incorrecta, por lo que tienes que implementar la función getWrongAnswers(N, C) que devuelva una cadena de N caracteres, donde el i-ésimo carácter sea la respuesta que deberías dar en la pregunta i para fallar (es decir, \"A\" o \"B\")."
   ]
  },
  {
   "cell_type": "markdown",
   "id": "81788231-4d62-456c-b6ca-bcb297d5259f",
   "metadata": {},
   "source": [
    "Caso de prueba 1:\n",
    "\n",
    "N = 3\n",
    "\n",
    "C = \"ABA\"\n",
    "\n",
    "Resultado esperado = \"BAB\"\n",
    "\n",
    "Caso de prueba 2:\n",
    "\n",
    "N = 5\n",
    "\n",
    "C = \"BBBBB\"\n",
    "\n",
    "Resultado esperado = \"AAAAA\""
   ]
  },
  {
   "cell_type": "code",
   "execution_count": 1,
   "id": "6c685a37-40fa-409f-adba-afe08f98756b",
   "metadata": {},
   "outputs": [],
   "source": [
    "def getWrongAnswers(C):\n",
    "    result = []\n",
    "    for ch in C:\n",
    "        if ch == 'A':\n",
    "            result.append('B')\n",
    "        else:\n",
    "            result.append('A')\n",
    "    return \"\".join(result)"
   ]
  },
  {
   "cell_type": "code",
   "execution_count": 2,
   "id": "87b186a7-10f1-49db-bddc-68cc22efcb06",
   "metadata": {},
   "outputs": [
    {
     "data": {
      "text/plain": [
       "'BAAABA'"
      ]
     },
     "execution_count": 2,
     "metadata": {},
     "output_type": "execute_result"
    }
   ],
   "source": [
    "getWrongAnswers(\"ABBBAC\")"
   ]
  },
  {
   "cell_type": "markdown",
   "id": "0cb4761c-37c0-48fc-bfcc-71264536c6eb",
   "metadata": {},
   "source": [
    "**Ejercicio 2**:\n",
    "\n",
    "Supon que tiene un arreglo con N bolsas de dulces. La i-ésima bolsa contiene arr[i] dulces, ¡y cada bolsa es mágica!\n",
    "* Te toma 1 minuto comerte todos los dulces de una bolsa (sin importar cuántos haya dentro).\n",
    "* Tan pronto como terminas, la bolsa misteriosamente se rellena sola.\n",
    "* Si había x dulces en la bolsa al inicio del minuto, entonces después de terminar encontrarás que ahora tiene $\\lfloor x/2 \\rfloor$ dulces.\n",
    "\n",
    "Si dispones de k minutos para comer la mayor cantidad posible de dulces. ¿Cuántos dulces puedes comer como máximo?"
   ]
  },
  {
   "cell_type": "markdown",
   "id": "d2055f56-39de-43cf-a3b6-70d3df79b7f1",
   "metadata": {},
   "source": [
    "Caso de prueba 1:\n",
    "\n",
    "N = 5\n",
    "\n",
    "k = 3\n",
    "\n",
    "arr = [2, 1, 7, 4, 2]\n",
    "\n",
    "output = 14"
   ]
  },
  {
   "cell_type": "markdown",
   "id": "9a772122-d42d-4dfe-a17e-3ae6855a7a49",
   "metadata": {},
   "source": [
    "Explicación:\n",
    "* En el primer minuto puedes comer 7 dulces. Esa bolsa se rellena con $\\lfloor 7/2 \\rfloor = 3$.\n",
    "* En el segundo minuto puedes comer 4 dulces de otra bolsa. Esa bolsa se rellena con $\\lfloor 4/2 \\rfloor = 2$.\n",
    "* En el tercer minuto puedes comer los 3 dulces que aparecieron en la primera bolsa.\n",
    "\n",
    "total, comes: 7 + 4 + 3 = 14 dulces."
   ]
  },
  {
   "cell_type": "code",
   "execution_count": 3,
   "id": "1922d3b7-6088-4c15-9543-4c9e3eb83dca",
   "metadata": {},
   "outputs": [],
   "source": [
    "def maxCandies(arr, k):\n",
    "    candies_eaten = 0 \n",
    "    for i in range(0,k):\n",
    "        max_t = max(arr)\n",
    "        candies_eaten += max_t\n",
    "        arr[arr.index(max_t)] = int(max_t/2)\n",
    "    return candies_eaten"
   ]
  },
  {
   "cell_type": "code",
   "execution_count": 4,
   "id": "1448331c-8440-4105-bf81-277ac74830a5",
   "metadata": {},
   "outputs": [
    {
     "data": {
      "text/plain": [
       "14"
      ]
     },
     "execution_count": 4,
     "metadata": {},
     "output_type": "execute_result"
    }
   ],
   "source": [
    "maxCandies([2, 1, 7, 4, 2], k=3)"
   ]
  },
  {
   "cell_type": "code",
   "execution_count": 5,
   "id": "141e40fe-c9e4-471a-b203-629253074cd3",
   "metadata": {},
   "outputs": [
    {
     "data": {
      "text/plain": [
       "228"
      ]
     },
     "execution_count": 5,
     "metadata": {},
     "output_type": "execute_result"
    }
   ],
   "source": [
    "maxCandies([19, 78, 76, 72, 48, 8, 24, 74, 29], k=3)"
   ]
  },
  {
   "cell_type": "markdown",
   "id": "4e77bf65-e30b-47c6-8718-579352837c51",
   "metadata": {},
   "source": [
    "**Ejercicio 3**\n",
    "\n",
    "Dado un arreglo de longitud mayor o igual a 3, implementa una función que genere un nuevo arreglo del mismo tamaño. En cada posición i, el valor debe corresponder al producto de los tres números más grandes encontrados hasta esa posición. Si el índice i es menor que 2 (es decir, aún no existen tres números disponibles), se debe asignar el valor -1 en dicha posición.\n"
   ]
  },
  {
   "cell_type": "markdown",
   "id": "56d9e7a4-0ca2-4baa-b623-9fd90a907cff",
   "metadata": {},
   "source": [
    "Caso de prueba 1: \n",
    "n = 5\n",
    "\n",
    "arr = [1, 2, 3, 4, 5]\n",
    "\n",
    "output = [-1, -1, 6, 24, 60]\n",
    "\n",
    "Caso de prueba 2:\n",
    "\n",
    "arr = [2, 1, 2, 1, 2]\n",
    "\n",
    "output = [-1, -1, 4, 4, 8]"
   ]
  },
  {
   "cell_type": "code",
   "execution_count": 6,
   "id": "6414efec-2eda-46b8-8c73-67c004830f7b",
   "metadata": {},
   "outputs": [],
   "source": [
    "def findMaxProduct(arr):\n",
    "    n = len(arr)\n",
    "    out = [-1] * n\n",
    "    m1 = m2 = m3 = float('-inf')\n",
    "    for i, x in enumerate(arr):\n",
    "        if x >= m1:\n",
    "            m1, m2, m3 = x, m1, m2\n",
    "        elif x >= m2:\n",
    "            m2, m3 = x, m2\n",
    "        elif x >= m3:\n",
    "            m3 = x\n",
    "        if i >= 2:\n",
    "            out[i] = m1 * m2 * m3\n",
    "    return out"
   ]
  },
  {
   "cell_type": "code",
   "execution_count": 7,
   "id": "a37fc485-a539-47e7-bcca-cb3610e20747",
   "metadata": {},
   "outputs": [
    {
     "data": {
      "text/plain": [
       "[-1, -1, 6, 24, 60]"
      ]
     },
     "execution_count": 7,
     "metadata": {},
     "output_type": "execute_result"
    }
   ],
   "source": [
    "findMaxProduct([1, 2, 3, 4, 5])"
   ]
  },
  {
   "cell_type": "markdown",
   "id": "972e0f3c-e61d-48bc-8695-6b572f78eef4",
   "metadata": {},
   "source": [
    "**Ejercicio 4**\n",
    "\n",
    "Hay una pila de N discos inflables, donde el disco i-ésimo desde arriba tiene un radio inicial de R_i pulgadas. \n",
    "\n",
    "La pila se considera inestable si contiene al menos un disco cuyo radio es mayor o igual al del disco directamente debajo de él. En otras palabras, para que la pila sea estable, cada disco debe tener un radio estrictamente menor que el del disco directamente debajo.\n",
    "\n",
    "Mientras la pila esté inestable, puedes elegir repetidamente cualquier disco de tu elección y desinflarlo hasta que tenga un radio (entero positivo) estrictamente menor al radio anterior de ese disco.\n",
    "\n",
    "Debes determinar el número mínimo de discos que necesitan ser desinflados para que la pila se vuelva estable. Si no es posible estabilizar la pila, devuelve -1.\n",
    "\n",
    "Caso de prueba 1:\n",
    "N = 5\n",
    "R = [2, 5, 3, 6, 5]\n",
    "Valor esperado = 3\n",
    "\n",
    "Caso de prueba 2:\n",
    "N = 3\n",
    "R = [100, 100, 100]\n",
    "Valor esperado = 2\n",
    "\n",
    "Caso de prueba 3:\n",
    "N = 4\n",
    "R = [6, 5, 4, 3]\n",
    "Valor esperado = -1\n",
    "\n",
    "\n",
    "Explicación\n",
    "* 1-En el primer caso, los discos (de arriba hacia abajo) tienen radios de [2”, 5”, 3”, 6”, 5”].\n",
    "Una forma de estabilizar la pila es desinflar el disco 1 de 2” a 1”, el disco 2 de 5” a 2”, y el disco 4 de 6” a 4”. Esto da como resultado los radios finales [1”, 2”, 3”, 4”, 5”].\n",
    "* 2-En el segundo caso, una manera de estabilizar es desinflar el disco 1 de 100” a 1” y el disco 2 de 100” a 10”.\n",
    "* 3-En el tercer caso, es imposible estabilizar la pila después de cualquier número de desinflados."
   ]
  },
  {
   "cell_type": "code",
   "execution_count": 9,
   "id": "4e124e1f-75a4-40c4-95d2-fdb47e31e4cb",
   "metadata": {},
   "outputs": [],
   "source": [
    "def min_deflations(R):\n",
    "    n = len(R)\n",
    "    count = 0\n",
    "    prev = R[-1]  # radio del disco más inferior\n",
    "    for i in range(n - 2, -1, -1):  # de abajo hacia arriba\n",
    "        r = R[i]\n",
    "        if r < prev:\n",
    "            prev = r  # no es necesario desinflar\n",
    "        else:\n",
    "            new_r = prev - 1          # mejor opción para maximizar margen\n",
    "            if new_r <= 0:\n",
    "                return -1             # no se puede tener radios <= 0\n",
    "            count += 1\n",
    "            prev = new_r              # el radio final de este disco\n",
    "    return count"
   ]
  },
  {
   "cell_type": "code",
   "execution_count": 10,
   "id": "f9b55d07-86db-46d2-9273-b24e250c8dc8",
   "metadata": {},
   "outputs": [
    {
     "data": {
      "text/plain": [
       "3"
      ]
     },
     "execution_count": 10,
     "metadata": {},
     "output_type": "execute_result"
    }
   ],
   "source": [
    "min_deflations([2, 5, 3, 6, 5])"
   ]
  }
 ],
 "metadata": {
  "kernelspec": {
   "display_name": "Python 3 (ipykernel)",
   "language": "python",
   "name": "python3"
  },
  "language_info": {
   "codemirror_mode": {
    "name": "ipython",
    "version": 3
   },
   "file_extension": ".py",
   "mimetype": "text/x-python",
   "name": "python",
   "nbconvert_exporter": "python",
   "pygments_lexer": "ipython3",
   "version": "3.11.6"
  }
 },
 "nbformat": 4,
 "nbformat_minor": 5
}
