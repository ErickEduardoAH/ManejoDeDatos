{
 "cells": [
  {
   "cell_type": "code",
   "execution_count": 1,
   "id": "1168e555-7652-45d8-980c-12cf1b5ba221",
   "metadata": {},
   "outputs": [
    {
     "name": "stdout",
     "output_type": "stream",
     "text": [
      "Hola MACTI\n"
     ]
    }
   ],
   "source": [
    "print('Hola MACTI')"
   ]
  },
  {
   "cell_type": "code",
   "execution_count": null,
   "id": "3f60204a-7c62-4647-9f39-b60bfd18d246",
   "metadata": {},
   "outputs": [],
   "source": []
  }
 ],
 "metadata": {
  "kernelspec": {
   "display_name": "Python 3 (ipykernel)",
   "language": "python",
   "name": "python3"
  },
  "language_info": {
   "codemirror_mode": {
    "name": "ipython",
    "version": 3
   },
   "file_extension": ".py",
   "mimetype": "text/x-python",
   "name": "python",
   "nbconvert_exporter": "python",
   "pygments_lexer": "ipython3",
   "version": "3.11.6"
  }
 },
 "nbformat": 4,
 "nbformat_minor": 5
}
